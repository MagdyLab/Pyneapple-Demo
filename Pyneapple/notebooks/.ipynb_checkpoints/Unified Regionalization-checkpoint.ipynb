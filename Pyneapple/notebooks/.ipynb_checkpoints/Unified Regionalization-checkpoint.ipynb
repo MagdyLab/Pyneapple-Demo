{
 "cells": [
  {
   "cell_type": "code",
   "execution_count": 5,
   "id": "2a58ff80",
   "metadata": {},
   "outputs": [],
   "source": [
    "import pyneapple.regionalization.emp as emp\n",
    "import pyneapple.weight.rook as rook\n",
    "import libpysal \n",
    "import time\n",
    "from libpysal.weights import Queen, Rook, KNN, Kernel, DistanceBand\n",
    "import numpy as np\n",
    "import geopandas\n",
    "import pandas\n",
    "import matplotlib.pyplot as plt\n",
    "import jpype\n",
    "from jpype import java\n",
    "from jpype import javax\n",
    "import math"
   ]
  },
  {
   "cell_type": "code",
   "execution_count": 9,
   "id": "4a0de0ee",
   "metadata": {},
   "outputs": [
    {
     "ename": "SyntaxError",
     "evalue": "invalid syntax (3918989548.py, line 1)",
     "output_type": "error",
     "traceback": [
      "\u001b[0;36m  Cell \u001b[0;32mIn[9], line 1\u001b[0;36m\u001b[0m\n\u001b[0;31m    def MaxP(df, w, disName, sumName, sumLow, sumHigh = math.inf, minName = None, minLow = -math.inf, minHigh = math.inf, maxName = None, maxLow = -math.inf, maxHigh = math.inf, avgName = None, avgLow = = -math.inf, avgHigh = math.inf, countLow = -math.inf, countHigh = math.inf):\u001b[0m\n\u001b[0m                                                                                                                                                                                                           ^\u001b[0m\n\u001b[0;31mSyntaxError\u001b[0m\u001b[0;31m:\u001b[0m invalid syntax\n"
     ]
    }
   ],
   "source": [
    "def MaxP(df, w, disName, sumName, sumLow, sumHigh = math.inf, minName = None, minLow = -math.inf, minHigh = math.inf, maxName = None, maxLow = -math.inf, maxHigh = math.inf, avgName = None, avgLow = = -math.inf, avgHigh = math.inf, countLow = -math.inf, countHigh = math.inf):\n",
    "    if(minName == None && (minLow != -float('inf') || minHigh != float('inf'))):\n",
    "        print(\"Invalid MIN constraint\");\n"
   ]
  },
  {
   "cell_type": "code",
   "execution_count": 3,
   "id": "5a859934",
   "metadata": {},
   "outputs": [
    {
     "name": "stdout",
     "output_type": "stream",
     "text": [
      "inf\n"
     ]
    }
   ],
   "source": [
    "print(inf)"
   ]
  },
  {
   "cell_type": "code",
   "execution_count": 6,
   "id": "2dc2bee3",
   "metadata": {},
   "outputs": [
    {
     "data": {
      "text/plain": [
       "inf"
      ]
     },
     "execution_count": 6,
     "metadata": {},
     "output_type": "execute_result"
    }
   ],
   "source": [
    "math.inf"
   ]
  },
  {
   "cell_type": "code",
   "execution_count": 8,
   "id": "dbe41aef",
   "metadata": {},
   "outputs": [
    {
     "name": "stdout",
     "output_type": "stream",
     "text": [
      "True\n"
     ]
    }
   ],
   "source": [
    "print(float('inf') == inf)"
   ]
  },
  {
   "cell_type": "code",
   "execution_count": null,
   "id": "ebd5d54d",
   "metadata": {},
   "outputs": [],
   "source": []
  }
 ],
 "metadata": {
  "kernelspec": {
   "display_name": "Python 3 (ipykernel)",
   "language": "python",
   "name": "python3"
  },
  "language_info": {
   "codemirror_mode": {
    "name": "ipython",
    "version": 3
   },
   "file_extension": ".py",
   "mimetype": "text/x-python",
   "name": "python",
   "nbconvert_exporter": "python",
   "pygments_lexer": "ipython3",
   "version": "3.10.9"
  }
 },
 "nbformat": 4,
 "nbformat_minor": 5
}
