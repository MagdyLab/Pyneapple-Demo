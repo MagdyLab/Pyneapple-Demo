{
 "cells": [
  {
   "cell_type": "code",
   "execution_count": 1,
   "id": "a2ad2085",
   "metadata": {},
   "outputs": [],
   "source": [
    "import regionalization.emp as emp\n",
    "import weight.rook as rook\n",
    "import libpysal \n",
    "import time\n",
    "from libpysal.weights import Queen, Rook, KNN, Kernel, DistanceBand\n",
    "import numpy as np\n",
    "import geopandas\n",
    "import pandas\n",
    "import matplotlib.pyplot as plt\n",
    "import jpype\n",
    "from jpype import java\n",
    "from jpype import javax"
   ]
  },
  {
   "cell_type": "code",
   "execution_count": 2,
   "id": "23735873",
   "metadata": {},
   "outputs": [],
   "source": [
    "path = \"C:/Users/50476/Documents/GitHub/Pineapple/Pineapple/JAVA/data/LACity/LACity.shp\"\n",
    "df = geopandas.read_file(path)\n"
   ]
  },
  {
   "cell_type": "code",
   "execution_count": 3,
   "id": "7a357186",
   "metadata": {},
   "outputs": [],
   "source": [
    "jpype.startJVM(\"-Xmx20480m\", classpath = [\"./Pineapple.jar\"])"
   ]
  },
  {
   "cell_type": "code",
   "execution_count": 4,
   "id": "3b08bb1a",
   "metadata": {},
   "outputs": [],
   "source": [
    "w = rook.from_dataframe(df)"
   ]
  },
  {
   "cell_type": "code",
   "execution_count": 11,
   "id": "6e0182eb",
   "metadata": {},
   "outputs": [],
   "source": [
    "inf = java.lang.Double.POSITIVE_INFINITY\n",
    "p, regions = emp.emp(df, w, 'households', 'pop_16up', -inf, inf, 'pop_16up', -inf, inf, 'pop_16up', -inf, inf, 'pop_16up', 20000.0, inf, -inf, inf) "
   ]
  },
  {
   "cell_type": "code",
   "execution_count": 12,
   "id": "a91edf25",
   "metadata": {},
   "outputs": [
    {
     "data": {
      "text/plain": [
       "122"
      ]
     },
     "execution_count": 12,
     "metadata": {},
     "output_type": "execute_result"
    }
   ],
   "source": [
    "p"
   ]
  },
  {
   "cell_type": "code",
   "execution_count": 13,
   "id": "892f9b41",
   "metadata": {},
   "outputs": [
    {
     "data": {
      "text/plain": [
       "array([  1, 166,   1, ..., 914, 965, 992], dtype=int32)"
      ]
     },
     "execution_count": 13,
     "metadata": {},
     "output_type": "execute_result"
    }
   ],
   "source": [
    "regions"
   ]
  },
  {
   "cell_type": "code",
   "execution_count": null,
   "id": "66bbcfa5",
   "metadata": {},
   "outputs": [],
   "source": []
  }
 ],
 "metadata": {
  "kernelspec": {
   "display_name": "Python 3 (ipykernel)",
   "language": "python",
   "name": "python3"
  },
  "language_info": {
   "codemirror_mode": {
    "name": "ipython",
    "version": 3
   },
   "file_extension": ".py",
   "mimetype": "text/x-python",
   "name": "python",
   "nbconvert_exporter": "python",
   "pygments_lexer": "ipython3",
   "version": "3.9.7"
  }
 },
 "nbformat": 4,
 "nbformat_minor": 5
}
